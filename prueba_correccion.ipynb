{
 "cells": [
  {
   "cell_type": "code",
   "execution_count": 160,
   "metadata": {
    "collapsed": true,
    "pycharm": {
     "name": "#%%\n"
    }
   },
   "outputs": [],
   "source": [
    "import pandas as pd\n",
    "import zipfile\n",
    "import os\n",
    "import requests\n",
    "import io\n",
    "from Levenshtein import distance\n",
    "import time\n",
    "import numpy as np"
   ]
  },
  {
   "cell_type": "code",
   "execution_count": 161,
   "outputs": [],
   "source": [
    "#Establecer directorio de trabajo\n",
    "os.chdir(\"D:/github/correcci-n_nombres\")"
   ],
   "metadata": {
    "collapsed": false,
    "pycharm": {
     "name": "#%%\n"
    }
   }
  },
  {
   "cell_type": "code",
   "execution_count": 162,
   "outputs": [],
   "source": [
    "#Identificar archivos csv en la carpeta raw_data\n",
    "archivos = os.listdir(\"raw_data\")\n",
    "archivos_csv = [i for i in archivos if i.endswith(\".csv\")]\n",
    "\n",
    "#Leer y pegar los archivos csv usando un loop\n",
    "df = pd.DataFrame()\n",
    "for i in archivos_csv:\n",
    "    df = pd.concat([df, pd.read_csv(\"raw_data/\" + i, encoding = \"utf-8\", low_memory = False)],\n",
    "                   axis = 0)\n",
    "#Columnas en minúsculas\n",
    "df.columns = df.columns.str.lower()\n",
    "\n",
    "#Seleccionar columnas 3,4 y 5\n",
    "df = df.iloc[:,[3,4,5]]\n",
    "\n",
    "#Renombrar columnas\n",
    "df.columns = [\"primer_apellido\", \"segundo_apellido\", \"nombre\"]\n",
    "\n",
    "#Eliminar los registros \"MENOR\" en las tres columnas usando un loop\n",
    "for i in df.columns:\n",
    "    df = df[df[i] != \"MENOR\"]\n",
    "    #Eliminar nans de todas las columnas\n",
    "    df = df.dropna()\n"
   ],
   "metadata": {
    "collapsed": false,
    "pycharm": {
     "name": "#%%\n"
    }
   }
  },
  {
   "cell_type": "code",
   "execution_count": 163,
   "outputs": [
    {
     "data": {
      "text/plain": "(7905934, 3)"
     },
     "execution_count": 163,
     "metadata": {},
     "output_type": "execute_result"
    }
   ],
   "source": [
    "df.shape"
   ],
   "metadata": {
    "collapsed": false,
    "pycharm": {
     "name": "#%%\n"
    }
   }
  },
  {
   "cell_type": "code",
   "execution_count": 164,
   "outputs": [
    {
     "data": {
      "text/plain": "11"
     },
     "execution_count": 164,
     "metadata": {},
     "output_type": "execute_result"
    }
   ],
   "source": [
    "#Obtener el número máximo de espacios que tiene la columna nombre\n",
    "max(df.nombre.str.count(\" \"))"
   ],
   "metadata": {
    "collapsed": false,
    "pycharm": {
     "name": "#%%\n"
    }
   }
  },
  {
   "cell_type": "code",
   "execution_count": 165,
   "outputs": [],
   "source": [
    "#obtener el nombre con el número máximo de espacios\n",
    "#df[df.nombre.str.count(\" \") == 11]"
   ],
   "metadata": {
    "collapsed": false,
    "pycharm": {
     "name": "#%%\n"
    }
   }
  },
  {
   "cell_type": "code",
   "execution_count": 166,
   "outputs": [],
   "source": [
    "#Buscar registros con apellido==\"AAGUILAR\"\n",
    "#df[df.primer_apellido == \"AAGUILAR\"]"
   ],
   "metadata": {
    "collapsed": false,
    "pycharm": {
     "name": "#%%\n"
    }
   }
  },
  {
   "cell_type": "code",
   "execution_count": 167,
   "outputs": [],
   "source": [
    "#Dejar únicamente el primer nombre\n",
    "df[\"nombre\"] = df[\"nombre\"].str.split(\" \").str[0]"
   ],
   "metadata": {
    "collapsed": false,
    "pycharm": {
     "name": "#%%\n"
    }
   }
  },
  {
   "cell_type": "code",
   "execution_count": 168,
   "outputs": [
    {
     "data": {
      "text/plain": "primer_apellido     0\nsegundo_apellido    0\nnombre              0\ndtype: int64"
     },
     "execution_count": 168,
     "metadata": {},
     "output_type": "execute_result"
    }
   ],
   "source": [
    "#Contar si existen nans en las columnas\n",
    "df.isna().sum()"
   ],
   "metadata": {
    "collapsed": false,
    "pycharm": {
     "name": "#%%\n"
    }
   }
  },
  {
   "cell_type": "code",
   "execution_count": 169,
   "outputs": [],
   "source": [
    "#Crear una lista de apellidos y nombres\n",
    "apellidos = df.primer_apellido.unique().tolist() + df.segundo_apellido.unique().tolist()\n",
    "nombres = df.nombre.unique().tolist()\n",
    "#Hacer una lista general de nombres y apellidos\n",
    "nombres_apellidos = apellidos + nombres\n",
    "#Ordenar listas\n",
    "apellidos.sort()\n",
    "nombres.sort()\n",
    "nombres_apellidos.sort()"
   ],
   "metadata": {
    "collapsed": false,
    "pycharm": {
     "name": "#%%\n"
    }
   }
  },
  {
   "cell_type": "code",
   "execution_count": 170,
   "outputs": [
    {
     "name": "stdout",
     "output_type": "stream",
     "text": [
      "Total de nombres:  128033\n",
      "Total de apellidos:  89710\n",
      "Total nombres+apellidos:  217743\n"
     ]
    }
   ],
   "source": [
    "#Obtener el número de elementos en la lista de nombres\n",
    "print(\"Total de nombres: \",len(nombres))\n",
    "print(\"Total de apellidos: \",len(apellidos))\n",
    "print(\"Total nombres+apellidos: \",len(nombres_apellidos))"
   ],
   "metadata": {
    "collapsed": false,
    "pycharm": {
     "name": "#%%\n"
    }
   }
  },
  {
   "cell_type": "code",
   "execution_count": 171,
   "outputs": [],
   "source": [
    "#Cargar archivo de excel con nombres a corregir\n",
    "nombres_corregir = pd.read_excel(\"Nombres_SEMEFO_Anotaciones.xlsx\")\n",
    "#Dejar únicamente la variable FourthConfig\n",
    "nombres_corregir = nombres_corregir.iloc[:,[4]]\n",
    "#Eliminar NaNs\n",
    "nombres_corregir = nombres_corregir.dropna()\n",
    "#Separar FourthConfig en el mayor número de columnas posibles\n",
    "nombres_corregir = nombres_corregir[\"FourthConfig\"].str.split(\" \", expand = True)\n",
    "#Dejar solo las primeras 3 columnas\n",
    "nombres_corregir = nombres_corregir.iloc[:,[0,1,2]]\n",
    "#Renombrar columnas\n",
    "nombres_corregir.columns = [\"primer_apellido\", \"segundo_apellido\", \"nombre\"]"
   ],
   "metadata": {
    "collapsed": false,
    "pycharm": {
     "name": "#%%\n"
    }
   }
  },
  {
   "cell_type": "code",
   "execution_count": 172,
   "outputs": [
    {
     "data": {
      "text/plain": "    primer_apellido segundo_apellido   nombre\n0         CHTAUTLLO             None     None\n1             ENON_          BADILLO   GARCIA\n2               BRO                Q       LE\n3           EZEQUEL             None     None\n4           COCCION              SEG     TITO\n..              ...              ...      ...\n256         DEPOSIJ             None     None\n257         ANTONIO         CASTILLO   ESPINO\n258            JOSE         CALDERON  MORALES\n259             CIA             None     None\n260         SPINOZA                      None\n\n[257 rows x 3 columns]",
      "text/html": "<div>\n<style scoped>\n    .dataframe tbody tr th:only-of-type {\n        vertical-align: middle;\n    }\n\n    .dataframe tbody tr th {\n        vertical-align: top;\n    }\n\n    .dataframe thead th {\n        text-align: right;\n    }\n</style>\n<table border=\"1\" class=\"dataframe\">\n  <thead>\n    <tr style=\"text-align: right;\">\n      <th></th>\n      <th>primer_apellido</th>\n      <th>segundo_apellido</th>\n      <th>nombre</th>\n    </tr>\n  </thead>\n  <tbody>\n    <tr>\n      <th>0</th>\n      <td>CHTAUTLLO</td>\n      <td>None</td>\n      <td>None</td>\n    </tr>\n    <tr>\n      <th>1</th>\n      <td>ENON_</td>\n      <td>BADILLO</td>\n      <td>GARCIA</td>\n    </tr>\n    <tr>\n      <th>2</th>\n      <td>BRO</td>\n      <td>Q</td>\n      <td>LE</td>\n    </tr>\n    <tr>\n      <th>3</th>\n      <td>EZEQUEL</td>\n      <td>None</td>\n      <td>None</td>\n    </tr>\n    <tr>\n      <th>4</th>\n      <td>COCCION</td>\n      <td>SEG</td>\n      <td>TITO</td>\n    </tr>\n    <tr>\n      <th>...</th>\n      <td>...</td>\n      <td>...</td>\n      <td>...</td>\n    </tr>\n    <tr>\n      <th>256</th>\n      <td>DEPOSIJ</td>\n      <td>None</td>\n      <td>None</td>\n    </tr>\n    <tr>\n      <th>257</th>\n      <td>ANTONIO</td>\n      <td>CASTILLO</td>\n      <td>ESPINO</td>\n    </tr>\n    <tr>\n      <th>258</th>\n      <td>JOSE</td>\n      <td>CALDERON</td>\n      <td>MORALES</td>\n    </tr>\n    <tr>\n      <th>259</th>\n      <td>CIA</td>\n      <td>None</td>\n      <td>None</td>\n    </tr>\n    <tr>\n      <th>260</th>\n      <td>SPINOZA</td>\n      <td></td>\n      <td>None</td>\n    </tr>\n  </tbody>\n</table>\n<p>257 rows × 3 columns</p>\n</div>"
     },
     "execution_count": 172,
     "metadata": {},
     "output_type": "execute_result"
    }
   ],
   "source": [
    "nombres_corregir"
   ],
   "metadata": {
    "collapsed": false,
    "pycharm": {
     "name": "#%%\n"
    }
   }
  },
  {
   "cell_type": "code",
   "execution_count": 173,
   "outputs": [
    {
     "name": "stdout",
     "output_type": "stream",
     "text": [
      "Número de elementos revisados:  257\n",
      "Tiempo de ejecución: 50.89545559999897 segundos\n",
      "Tiempo por elemento:  0.19803679221789483  segundos\n"
     ]
    },
    {
     "data": {
      "text/plain": "    primer_apellido segundo_apellido    nombre nombre_cercano_1\n152               2            PABLO  MARTINEZ                 \n198               2                E      RAMA                 \n85      28404819983                0      None                 \n52                A                A      None                A\n217               A          SCULINO        DE                A\n..              ...              ...       ...              ...\n191             ___          ALFONSO       ROM                 \n149           _____             JOEL     ANGEL                 \n200       _________          PLACTDO  JERONTMO                 \n58        _________             JOSE     VILLA                 \n224     ___________           MARTMA   YOLANDA                 \n\n[257 rows x 4 columns]",
      "text/html": "<div>\n<style scoped>\n    .dataframe tbody tr th:only-of-type {\n        vertical-align: middle;\n    }\n\n    .dataframe tbody tr th {\n        vertical-align: top;\n    }\n\n    .dataframe thead th {\n        text-align: right;\n    }\n</style>\n<table border=\"1\" class=\"dataframe\">\n  <thead>\n    <tr style=\"text-align: right;\">\n      <th></th>\n      <th>primer_apellido</th>\n      <th>segundo_apellido</th>\n      <th>nombre</th>\n      <th>nombre_cercano_1</th>\n    </tr>\n  </thead>\n  <tbody>\n    <tr>\n      <th>152</th>\n      <td>2</td>\n      <td>PABLO</td>\n      <td>MARTINEZ</td>\n      <td></td>\n    </tr>\n    <tr>\n      <th>198</th>\n      <td>2</td>\n      <td>E</td>\n      <td>RAMA</td>\n      <td></td>\n    </tr>\n    <tr>\n      <th>85</th>\n      <td>28404819983</td>\n      <td>0</td>\n      <td>None</td>\n      <td></td>\n    </tr>\n    <tr>\n      <th>52</th>\n      <td>A</td>\n      <td>A</td>\n      <td>None</td>\n      <td>A</td>\n    </tr>\n    <tr>\n      <th>217</th>\n      <td>A</td>\n      <td>SCULINO</td>\n      <td>DE</td>\n      <td>A</td>\n    </tr>\n    <tr>\n      <th>...</th>\n      <td>...</td>\n      <td>...</td>\n      <td>...</td>\n      <td>...</td>\n    </tr>\n    <tr>\n      <th>191</th>\n      <td>___</td>\n      <td>ALFONSO</td>\n      <td>ROM</td>\n      <td></td>\n    </tr>\n    <tr>\n      <th>149</th>\n      <td>_____</td>\n      <td>JOEL</td>\n      <td>ANGEL</td>\n      <td></td>\n    </tr>\n    <tr>\n      <th>200</th>\n      <td>_________</td>\n      <td>PLACTDO</td>\n      <td>JERONTMO</td>\n      <td></td>\n    </tr>\n    <tr>\n      <th>58</th>\n      <td>_________</td>\n      <td>JOSE</td>\n      <td>VILLA</td>\n      <td></td>\n    </tr>\n    <tr>\n      <th>224</th>\n      <td>___________</td>\n      <td>MARTMA</td>\n      <td>YOLANDA</td>\n      <td></td>\n    </tr>\n  </tbody>\n</table>\n<p>257 rows × 4 columns</p>\n</div>"
     },
     "execution_count": 173,
     "metadata": {},
     "output_type": "execute_result"
    }
   ],
   "source": [
    "start_time = time.perf_counter()\n",
    "\n",
    "# Iterar sobre cada fila de la columna nombre_mal\n",
    "for i in nombres_corregir[\"primer_apellido\"]:\n",
    "    #Obtener la distancia de Levenshtein entre el nombre a corregir y cada uno de los nombres de la lista\n",
    "    distancias = [distance(i, j) for j in nombres]\n",
    "    #Obtener el índice de los 3 nombres más cercanos\n",
    "    indices = np.argsort(distancias)[:3]\n",
    "    #Obtener los 3 nombres más cercanos\n",
    "    nombres_mas_cercanos = [nombres[i] for i in indices]\n",
    "    #Crear 3 columnas con los 3 nombres más cercanos\n",
    "    nombres_corregir.loc[nombres_corregir[\"primer_apellido\"] == i, \"nombre_cercano_1\"] = nombres_mas_cercanos[0]\n",
    "    #nombres_corregir.loc[nombres_corregir[\"primer_apellido\"] == i, \"nombre_cercano_2\"] = nombres_mas_cercanos[1]\n",
    "    #nombres_corregir.loc[nombres_corregir[\"primer_apellido\"] == i, \"nombre_cercano_3\"] = nombres_mas_cercanos[2]\n",
    "    #Ordenar por primer_apellido\n",
    "    nombres_corregir = nombres_corregir.sort_values(by = \"primer_apellido\")\n",
    "\n",
    "end_time = time.perf_counter()\n",
    "\n",
    "#Imprimir el tiempo de ejecución\n",
    "print(\"Número de elementos revisados: \", len(nombres_corregir))\n",
    "print(f'Tiempo de ejecución: {end_time - start_time} segundos')\n",
    "print(\"Tiempo por elemento: \", (end_time - start_time)/len(nombres_corregir), \" segundos\")\n",
    "\n",
    "nombres_corregir"
   ],
   "metadata": {
    "collapsed": false,
    "pycharm": {
     "name": "#%%\n"
    }
   }
  }
 ],
 "metadata": {
  "kernelspec": {
   "display_name": "Python 3",
   "language": "python",
   "name": "python3"
  },
  "language_info": {
   "codemirror_mode": {
    "name": "ipython",
    "version": 2
   },
   "file_extension": ".py",
   "mimetype": "text/x-python",
   "name": "python",
   "nbconvert_exporter": "python",
   "pygments_lexer": "ipython2",
   "version": "2.7.6"
  }
 },
 "nbformat": 4,
 "nbformat_minor": 0
}