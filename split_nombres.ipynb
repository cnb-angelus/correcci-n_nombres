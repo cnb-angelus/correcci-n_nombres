{
 "cells": [
  {
   "cell_type": "code",
   "execution_count": 4,
   "metadata": {},
   "outputs": [],
   "source": [
    "from math import log\n",
    "import os\n",
    "import pandas as pd"
   ]
  },
  {
   "cell_type": "code",
   "execution_count": 5,
   "metadata": {},
   "outputs": [],
   "source": [
    "os.chdir(\"C:/Users/claud/Documents/GitHub/correcci-n_nombres\")"
   ]
  },
  {
   "cell_type": "code",
   "execution_count": 6,
   "metadata": {},
   "outputs": [],
   "source": [
    "#Detectar todos los archivos csv de la carpeta csv dentro del directorio de trabajo\",\n",
    "csv_files = [f for f in os.listdir(\"raw_data/csv\") if f.endswith('.csv')]"
   ]
  },
  {
   "cell_type": "code",
   "execution_count": 7,
   "metadata": {},
   "outputs": [
    {
     "name": "stdout",
     "output_type": "stream",
     "text": [
      "Se cuenta con 6,086,922 registros de apellidos y nombres\n"
     ]
    }
   ],
   "source": [
    "#Leer todos los archivos csv y concatenarlos en un solo dataframe\"\n",
    "df = pd.concat((pd.read_csv(\"raw_data/csv/\"+f, encoding='utf-8', sep=',', low_memory=False) for f in csv_files))\n",
    "#Columnas en minuscúlas\",\n",
    "df.columns = map(str.lower, df.columns)\n",
    "#Seleccionar columnas 3 a 5\"\n",
    "df = df.iloc[:, 3:6]\n",
    "#Renombrar columnas\"\n",
    "df.columns = [\"primer_apellido\", \"segundo_apellido\", \"nombre\"]\n",
    "#Eliminar los registros \"MENOR\" en las tres columnas usando un loop\"\n",
    "for i in df.columns:\n",
    "    df = df[df[i] != \"MENOR\"]\n",
    "    #Eliminar nans de todas las columnas\",\n",
    "    df = df.dropna()\n",
    "\n",
    "#Dejar únicamente el primer nombre\"\n",
    "df[\"nombre\"] = df[\"nombre\"].str.split(\" \").str[0]\n",
    "#Crear una lista de apellidos y nombres\"\n",
    "apellidos = df.primer_apellido.tolist() + df.segundo_apellido.tolist()\n",
    "nombres = df.nombre.tolist()\n",
    "#Crear una lista tanto de apellidos como de nombres\n",
    "apellidos_nombres = apellidos + nombres\n",
    "#Imprmir len con comas\n",
    "print(\"Se cuenta con {:,} registros de apellidos y nombres\".format(len(apellidos_nombres)))"
   ]
  },
  {
   "cell_type": "code",
   "execution_count": 8,
   "metadata": {},
   "outputs": [],
   "source": [
    "#Obtener el costo \n",
    "wordcost=dict((k,log((i+1)*log(len(apellidos_nombres)))) for i,k in enumerate(set(apellidos_nombres)))\n",
    "#Obtener maxword\n",
    "maxword = max(len(x) for x in apellidos_nombres)"
   ]
  },
  {
   "cell_type": "code",
   "execution_count": 9,
   "metadata": {},
   "outputs": [],
   "source": [
    "def costo_palabra(word):\n",
    "    return wordcost.get(word, 9e999)"
   ]
  },
  {
   "cell_type": "code",
   "execution_count": 10,
   "metadata": {},
   "outputs": [],
   "source": [
    "def infer_spaces(s):\n",
    "    \"Uses dynamic programming to infer the location of spaces in a string without spaces.\"\n",
    "    # Find the best match for the i first characters, assuming cost has\n",
    "    # been built for the i-1 first characters. Returns a pair (match_cost, match_length).\n",
    "    def best_match(i):\n",
    "        candidates = enumerate(reversed(cost[max(0, i-maxword):i]))\n",
    "        return min((c + costo_palabra(s[i-k-1:i]), k+1) for k,c in candidates)\n",
    "\n",
    "    # Build the cost array.\n",
    "    cost = [0]\n",
    "    for i in range(1,len(s)+1):\n",
    "        c,k = best_match(i)\n",
    "        cost.append(c)\n",
    "\n",
    "    # Backtrack to recover the minimal-cost string.\n",
    "    out = []\n",
    "    i = len(s)\n",
    "    while i>0:\n",
    "        c,k = best_match(i)\n",
    "        assert c == cost[i]\n",
    "        out.append(s[i-k:i])\n",
    "        i -= k\n",
    "\n",
    "    return \" \".join(reversed(out))"
   ]
  },
  {
   "cell_type": "code",
   "execution_count": 11,
   "metadata": {},
   "outputs": [
    {
     "data": {
      "text/plain": [
       "'VICTOR MIRELES'"
      ]
     },
     "execution_count": 11,
     "metadata": {},
     "output_type": "execute_result"
    }
   ],
   "source": [
    "#Probar la función\n",
    "infer_spaces(\"VICTORMIRELES\")"
   ]
  }
 ],
 "metadata": {
  "kernelspec": {
   "display_name": "base",
   "language": "python",
   "name": "python3"
  },
  "language_info": {
   "codemirror_mode": {
    "name": "ipython",
    "version": 3
   },
   "file_extension": ".py",
   "mimetype": "text/x-python",
   "name": "python",
   "nbconvert_exporter": "python",
   "pygments_lexer": "ipython3",
   "version": "3.9.13"
  },
  "orig_nbformat": 4,
  "vscode": {
   "interpreter": {
    "hash": "7f2521f8c852c438ae51a89799ece420e6f028aa659cd11ab73056bc51495ab9"
   }
  }
 },
 "nbformat": 4,
 "nbformat_minor": 2
}
